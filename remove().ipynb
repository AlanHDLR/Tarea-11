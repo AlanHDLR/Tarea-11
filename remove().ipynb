{
  "nbformat": 4,
  "nbformat_minor": 0,
  "metadata": {
    "colab": {
      "name": "remove().ipynb",
      "provenance": [],
      "authorship_tag": "ABX9TyOppblssXCUJO52KCjiiinv",
      "include_colab_link": true
    },
    "kernelspec": {
      "name": "python3",
      "display_name": "Python 3"
    },
    "language_info": {
      "name": "python"
    }
  },
  "cells": [
    {
      "cell_type": "markdown",
      "metadata": {
        "id": "view-in-github",
        "colab_type": "text"
      },
      "source": [
        "<a href=\"https://colab.research.google.com/github/AlanHDLR/Tarea-11/blob/main/remove().ipynb\" target=\"_parent\"><img src=\"https://colab.research.google.com/assets/colab-badge.svg\" alt=\"Open In Colab\"/></a>"
      ]
    },
    {
      "cell_type": "markdown",
      "metadata": {
        "id": "CvxL1_RAyGFB"
      },
      "source": [
        "# La funcion remove() es la ultima"
      ]
    },
    {
      "cell_type": "code",
      "metadata": {
        "id": "W_4weh9uwK5F"
      },
      "source": [
        "class BinaryNode:\n",
        "    def __init__( self , value , left=None , rigth= None ):\n",
        "        self.data = value\n",
        "        self.left = left\n",
        "        self.rigth = rigth\n",
        "\n",
        "class BinarySearchTree:\n",
        "    def __init__( self ):\n",
        "        self.root = None\n",
        "    \n",
        "    def insert( self , value ):\n",
        "        if self.root == None:\n",
        "            self.root = BinaryNode( value )\n",
        "        else:\n",
        "            self.__insert_nodo( self.root , value )\n",
        "        \n",
        "    def __insert_nodo(self , nodo , value ):\n",
        "        if nodo.data == value: \n",
        "            pass\n",
        "        elif value < nodo.data:# ir a la izq\n",
        "            if nodo.left == None:\n",
        "                nodo.left = BinaryNode( value )\n",
        "            else:\n",
        "                self.__insert_nodo( nodo.left , value )\n",
        "        else:  # ir a la derecha\n",
        "            if nodo.rigth == None:\n",
        "                nodo.rigth = BinaryNode( value )\n",
        "            else:\n",
        "                self.__insert_nodo( nodo.rigth , value )\n",
        "    \n",
        "    def transversal( self , formato = \"posorden\"):\n",
        "        if formato == \"posorden\":\n",
        "            self.recorrido_pos( self.root )\n",
        "        elif formato == \"preorden\":\n",
        "            self.recorrido_pre(self.root )\n",
        "        else: # inorden\n",
        "            self.recorrido_in( self.root )\n",
        "        print()\n",
        "\n",
        "    def  recorrido_pos( self , nodo ):\n",
        "        if nodo != None:\n",
        "            self.recorrido_pos( nodo.left )\n",
        "            self.recorrido_pos( nodo.rigth )\n",
        "            print( str(nodo.data) , end=\" , \" )\n",
        "    \n",
        "    def  recorrido_pre( self , nodo ):\n",
        "        if nodo != None:\n",
        "            print( str(nodo.data) , end=\" , \" )\n",
        "            self.recorrido_pre( nodo.left )\n",
        "            self.recorrido_pre( nodo.rigth )\n",
        "    \n",
        "    def  recorrido_in( self , nodo ):\n",
        "        if nodo != None:\n",
        "            self.recorrido_in( nodo.left )\n",
        "            print( str(nodo.data) , end=\" , \" )\n",
        "            self.recorrido_in( nodo.rigth ) \n",
        "\n",
        "    def search( self , value ):\n",
        "        if self.root == None:\n",
        "            print(\"El árbol está vacío\")\n",
        "            return None\n",
        "        else:\n",
        "            return self.__search( self.root , value )\n",
        "\n",
        "    def __search( self , nodo , value ):\n",
        "        if nodo == None:\n",
        "            print(\"El dato no existe en el árbol\") \n",
        "            return None\n",
        "        elif nodo.data == value:\n",
        "            print(\"Encontrado\", nodo.data)\n",
        "            return nodo\n",
        "        elif value < nodo.data:\n",
        "            return self.__search( nodo.left , value  )\n",
        "        else:\n",
        "            return self.__search( nodo.rigth , value  )  \n",
        "\n",
        "#Aqui empieza la implementación\n",
        "    def remove(self,clave): # Eliminar nodo\n",
        "        if self.size > 1:\n",
        "             remove_nodo = self.get(clave,self.raiz)\n",
        "             if remove_nodo:\n",
        "                 self.remover(remove_nodo)\n",
        "                 self.size = self.size-1\n",
        "             else:\n",
        "                 raise KeyError('No esta en el parametro')\n",
        "        elif self.size == 1 and self.raiz.clave == clave:\n",
        "            self.raiz = None\n",
        "            self.size = self.size - 1\n",
        "        else:\n",
        "           raise KeyError('No esta en el parametro')\n",
        "        # Nodo hoja   \n",
        "        if nodo.hoja():  #Nodo hoja\n",
        "            if nodo == nodo.padre.hijoIzquierdo:\n",
        "                nodo.padre.hijoIzquierdo = None\n",
        "            else:\n",
        "                nodo.padre.hijoDerecho = None\n",
        "\n",
        "    def __delitem__(self,clave):\n",
        "         self.eliminar(clave)\n",
        "\n",
        "# Se complicaron los otros dos casos"
      ],
      "execution_count": 13,
      "outputs": []
    }
  ]
}